{
 "cells": [
  {
   "cell_type": "markdown",
   "metadata": {},
   "source": [
    "## Tarea 2"
   ]
  },
  {
   "cell_type": "markdown",
   "metadata": {},
   "source": [
    "### Parte 1"
   ]
  },
  {
   "cell_type": "markdown",
   "metadata": {},
   "source": [
    "#### 1. Haga un programa en Python que reciba de parámetro un número de segundos y que despliegue en pantalla, las horas, minutos y segundos que representan. Por ejemplo:\n",
    "\n",
    "- Si el número de segundos recibidos fuera: 2743 entonces su programa debería desplegar: Horas: 0, Minutos: 45 , Segundos: 43\n",
    "\n",
    "- Si el número de segundos recibidos fuera 5871: Horas: 1, Minutos: 37 , Segundos: 51\n",
    "\n",
    "Recuerde manejar excepciones y errores que considere necesarios."
   ]
  },
  {
   "cell_type": "code",
   "execution_count": 1,
   "metadata": {},
   "outputs": [
    {
     "name": "stdin",
     "output_type": "stream",
     "text": [
      "Dime segundos y yo los transformaré: 5871\n"
     ]
    },
    {
     "name": "stdout",
     "output_type": "stream",
     "text": [
      "Horas: 1, Minutos: 37, Segundos:51\n"
     ]
    }
   ],
   "source": [
    "try:\n",
    "    entrada = float(input(\"Dime segundos y yo los transformaré:\"))\n",
    "    \n",
    "    s = int(entrada%60)\n",
    "    m = int((entrada/60)%60)\n",
    "    h = int(entrada/3600)\n",
    "    \n",
    "    print(\"Horas: {}, Minutos: {}, Segundos:{}\".format(str(h), \n",
    "                                                       str(m) , \n",
    "                                                       str(s)))\n",
    "except Exception as e:\n",
    "    print(\"\")\n",
    "    print(\"******************************************\")\n",
    "    print(\"Solo admito números :D, intentalo de nuevo\")\n",
    "    print(\"Su error es:\", e)\n",
    "    print(\"******************************************\")"
   ]
  },
  {
   "cell_type": "markdown",
   "metadata": {},
   "source": [
    "#### 2. Haga una función en Python que dado un número entre 1 y 20. Y un carácter cualquiera despliegue cuatro patrones triangulares."
   ]
  },
  {
   "cell_type": "code",
   "execution_count": 2,
   "metadata": {},
   "outputs": [],
   "source": [
    "def triangulos(n, c):\n",
    "    if n>=1 and n<=20:\n",
    "        for i in range(1,n+1):\n",
    "            print(c*i,c*(n-i+1),c*(n-i+1), c*i)           \n",
    "    else:\n",
    "        pass"
   ]
  },
  {
   "cell_type": "code",
   "execution_count": 3,
   "metadata": {},
   "outputs": [
    {
     "name": "stdout",
     "output_type": "stream",
     "text": [
      "c cccccc cccccc c\n",
      "cc ccccc ccccc cc\n",
      "ccc cccc cccc ccc\n",
      "cccc ccc ccc cccc\n",
      "ccccc cc cc ccccc\n",
      "cccccc c c cccccc\n"
     ]
    }
   ],
   "source": [
    "triangulos(6,\"c\")"
   ]
  },
  {
   "cell_type": "code",
   "execution_count": 4,
   "metadata": {},
   "outputs": [
    {
     "name": "stdout",
     "output_type": "stream",
     "text": [
      "* **** **** *\n",
      "** *** *** **\n",
      "*** ** ** ***\n",
      "**** * * ****\n"
     ]
    }
   ],
   "source": [
    "triangulos(4,\"*\")"
   ]
  },
  {
   "cell_type": "markdown",
   "metadata": {},
   "source": [
    "#### 3. Haga un programa en Python que la fecha de nacimiento de una persona (puede ingresar por separado cada valor, es decir pedir primero día, luego mes y luego año), despliegue la edad de la persona en años, meses y días. Su resultado puede ser aproximado.\n"
   ]
  },
  {
   "cell_type": "code",
   "execution_count": 5,
   "metadata": {},
   "outputs": [
    {
     "name": "stdout",
     "output_type": "stream",
     "text": [
      "Vamos a calcular tu edad:\n",
      "\n"
     ]
    },
    {
     "name": "stdin",
     "output_type": "stream",
     "text": [
      "Año de nacimiento: 1997\n",
      "Mes de nacimiento: 09\n",
      "Día de nacimiento: 03\n"
     ]
    },
    {
     "name": "stdout",
     "output_type": "stream",
     "text": [
      "\n",
      "Su edad es:\n",
      "23 Años, 5 Meses y 17 dias\n"
     ]
    }
   ],
   "source": [
    "import datetime\n",
    "from dateutil.relativedelta import relativedelta\n",
    "\n",
    "try:\n",
    "    print('Vamos a calcular tu edad:')\n",
    "    print('')\n",
    "    y = int(input(\"Año de nacimiento:\"))\n",
    "    m = int(input(\"Mes de nacimiento:\"))\n",
    "    d = int(input(\"Día de nacimiento:\"))\n",
    "    \n",
    "    nacimiento = datetime.datetime(y,m,d)\n",
    "    hoy = datetime.datetime.today()\n",
    "    edad = relativedelta(hoy, nacimiento)\n",
    "    \n",
    "    print('')\n",
    "    print('Su edad es:')\n",
    "    print(\"{} Años, {} Meses y {} dias\".format(edad.years, edad.months, edad.days))\n",
    "    \n",
    "    \n",
    "except exception as e:\n",
    "    print(\"Puede que hayas escrito algo mal, intentalo de nuevo\")\n",
    "    \n"
   ]
  },
  {
   "cell_type": "markdown",
   "metadata": {},
   "source": [
    "### Parte 2"
   ]
  },
  {
   "cell_type": "markdown",
   "metadata": {},
   "source": [
    "#### 1. Escriba una función en Python que dada una tupla de elementos (numeros o letras) esta se convierta a un string. Tomar nota del siguiente ejemplo:\n",
    "- Si la entrada fuera: (10, 20, 40, 5, 70)\n",
    "- 0La salida debería ser: 102040570\n"
   ]
  },
  {
   "cell_type": "code",
   "execution_count": 6,
   "metadata": {},
   "outputs": [],
   "source": [
    "def tupleToString(tuplestr):\n",
    "    c = ''\n",
    "    for i in tuplestr:\n",
    "        c = c + str(i)\n",
    "    return c"
   ]
  },
  {
   "cell_type": "code",
   "execution_count": 7,
   "metadata": {},
   "outputs": [
    {
     "data": {
      "text/plain": [
       "'102040570'"
      ]
     },
     "execution_count": 7,
     "metadata": {},
     "output_type": "execute_result"
    }
   ],
   "source": [
    "test = (10, 20, 40, 5, 70)\n",
    "tupleToString(test)"
   ]
  },
  {
   "cell_type": "markdown",
   "metadata": {},
   "source": [
    "#### 2. Cree un programa en Python que dada una lista de tuplas, elimine las tuplas que está vacías. Tomar nota del siguiente ejemplo:\n",
    "- Si la lista fuera: [(), (), (’X’,), (’a’, ’b’), (’a’, ’b’, ’c’), (’d’)]\n",
    "- El resultado deber´ıa ser: [(’X’), (’a’, ’b’), (’a’, ’b’, ’c’), ’d’]"
   ]
  },
  {
   "cell_type": "code",
   "execution_count": 8,
   "metadata": {},
   "outputs": [],
   "source": [
    "def emptyTuple(emptyT):\n",
    "    noEmptyT = [i for i in emptyT if i != ()]\n",
    "    return noEmptyT"
   ]
  },
  {
   "cell_type": "code",
   "execution_count": 9,
   "metadata": {},
   "outputs": [
    {
     "data": {
      "text/plain": [
       "['X', ('a', 'b'), ('a', 'b', 'c'), 'd']"
      ]
     },
     "execution_count": 9,
     "metadata": {},
     "output_type": "execute_result"
    }
   ],
   "source": [
    "test2 = [(), (), ('X'), ('a', 'b'), ('a', 'b', 'c'), ('d')]\n",
    "emptyTuple(test2)"
   ]
  },
  {
   "cell_type": "markdown",
   "metadata": {},
   "source": [
    "#### 3. Cree una función en Python que dada una tupla de tuplas con numeros, produzca una tupla con el promedio de cada tupla individual. Tomar nota del siguiente ejemplo:\n",
    "- Si la tupla de entrada fuera: ((10, 10, 10, 12), (30, 45, 56, 45), (81, 80, 39, 32))\n",
    "- El resultado debería ser: (10.5, 44, 58)"
   ]
  },
  {
   "cell_type": "code",
   "execution_count": 10,
   "metadata": {},
   "outputs": [],
   "source": [
    "def tupleToAverage(originalTuple):\n",
    "    avglist=[]\n",
    "    for i in originalTuple:\n",
    "        avglist.append(sum(i)/len(i))\n",
    "    return tuple(avglist)"
   ]
  },
  {
   "cell_type": "code",
   "execution_count": 11,
   "metadata": {},
   "outputs": [
    {
     "data": {
      "text/plain": [
       "(10.5, 44.0, 58.0)"
      ]
     },
     "execution_count": 11,
     "metadata": {},
     "output_type": "execute_result"
    }
   ],
   "source": [
    "test3 = ((10, 10, 10, 12), (30, 45, 56, 45), (81, 80, 39, 32))\n",
    "tupleToAverage(test3)"
   ]
  }
 ],
 "metadata": {
  "kernelspec": {
   "display_name": "Python 3",
   "language": "python",
   "name": "python3"
  },
  "language_info": {
   "codemirror_mode": {
    "name": "ipython",
    "version": 3
   },
   "file_extension": ".py",
   "mimetype": "text/x-python",
   "name": "python",
   "nbconvert_exporter": "python",
   "pygments_lexer": "ipython3",
   "version": "3.8.5"
  }
 },
 "nbformat": 4,
 "nbformat_minor": 4
}
