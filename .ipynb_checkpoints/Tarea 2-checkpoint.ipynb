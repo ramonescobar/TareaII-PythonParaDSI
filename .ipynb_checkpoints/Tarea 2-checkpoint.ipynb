{
 "cells": [
  {
   "cell_type": "markdown",
   "metadata": {},
   "source": [
    "## Tarea 2"
   ]
  },
  {
   "cell_type": "markdown",
   "metadata": {},
   "source": [
    "### Parte 1"
   ]
  },
  {
   "cell_type": "markdown",
   "metadata": {},
   "source": [
    "#### 1. Haga un programa en Python que reciba de parámetro un número de segundos y que despliegue en pantalla, las horas, minutos y segundos que representan. Por ejemplo:\n",
    "\n",
    "- Si el número de segundos recibidos fuera: 2743 entonces su programa debería desplegar: Horas: 0, Minutos: 45 , Segundos: 43\n",
    "\n",
    "- Si el número de segundos recibidos fuera 5871: Horas: 1, Minutos: 37 , Segundos: 51\n",
    "\n",
    "Recuerde manejar excepciones y errores que considere necesarios."
   ]
  },
  {
   "cell_type": "code",
   "execution_count": 68,
   "metadata": {},
   "outputs": [
    {
     "name": "stdin",
     "output_type": "stream",
     "text": [
      "Dime segundos y yo los transformaré: g\n"
     ]
    },
    {
     "name": "stdout",
     "output_type": "stream",
     "text": [
      "\n",
      "******************************************\n",
      "Solo admito números :D, intentalo de nuevo\n",
      "Su error es: could not convert string to float: 'g'\n",
      "******************************************\n"
     ]
    }
   ],
   "source": [
    "try:\n",
    "    entrada = float(input(\"Dime segundos y yo los transformaré:\"))\n",
    "    \n",
    "    s = int(entrada%60)\n",
    "    m = int((entrada/60)%60)\n",
    "    h = int(entrada/3600)\n",
    "    \n",
    "    print(\"Horas: {}, Minutos: {}, Segundos:{}\".format(str(h), \n",
    "                                                       str(m) , \n",
    "                                                       str(s)))\n",
    "except Exception as e:\n",
    "    print(\"\")\n",
    "    print(\"******************************************\")\n",
    "    print(\"Solo admito números :D, intentalo de nuevo\")\n",
    "    print(\"Su error es:\", e)\n",
    "    print(\"******************************************\")"
   ]
  },
  {
   "cell_type": "markdown",
   "metadata": {},
   "source": [
    "#### 2. Haga una función en Python que dado un número entre 1 y 20. Y un carácter cualquiera despliegue cuatro patrones triangulares."
   ]
  },
  {
   "cell_type": "code",
   "execution_count": 167,
   "metadata": {},
   "outputs": [],
   "source": [
    "def triangulos(n, c):\n",
    "    if n>=1 and n<=20:\n",
    "        for i in range(1,n+1):\n",
    "            print(c*i,c*(n-i+1),c*(n-i+1), c*i)           \n",
    "    else:\n",
    "        pass"
   ]
  },
  {
   "cell_type": "code",
   "execution_count": 168,
   "metadata": {},
   "outputs": [
    {
     "name": "stdout",
     "output_type": "stream",
     "text": [
      "c cccccc cccccc c\n",
      "cc ccccc ccccc cc\n",
      "ccc cccc cccc ccc\n",
      "cccc ccc ccc cccc\n",
      "ccccc cc cc ccccc\n",
      "cccccc c c cccccc\n"
     ]
    }
   ],
   "source": [
    "triangulos(6,\"c\")"
   ]
  },
  {
   "cell_type": "code",
   "execution_count": 169,
   "metadata": {},
   "outputs": [
    {
     "name": "stdout",
     "output_type": "stream",
     "text": [
      "* **** **** *\n",
      "** *** *** **\n",
      "*** ** ** ***\n",
      "**** * * ****\n"
     ]
    }
   ],
   "source": [
    "triangulos(4,\"*\")"
   ]
  }
 ],
 "metadata": {
  "kernelspec": {
   "display_name": "Python 3",
   "language": "python",
   "name": "python3"
  },
  "language_info": {
   "codemirror_mode": {
    "name": "ipython",
    "version": 3
   },
   "file_extension": ".py",
   "mimetype": "text/x-python",
   "name": "python",
   "nbconvert_exporter": "python",
   "pygments_lexer": "ipython3",
   "version": "3.8.5"
  }
 },
 "nbformat": 4,
 "nbformat_minor": 4
}
